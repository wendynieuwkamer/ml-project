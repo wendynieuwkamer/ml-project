{
 "cells": [
  {
   "cell_type": "code",
   "execution_count": 1,
   "metadata": {
    "collapsed": false
   },
   "outputs": [],
   "source": [
    "import pandas as pd\n",
    "import pylab\n",
    "import matplotlib.pyplot as plt\n",
    "\n",
    "from sklearn.preprocessing import LabelEncoder\n",
    "from sklearn.model_selection import StratifiedShuffleSplit\n",
    "\n",
    "from sklearn.model_selection import train_test_split\n",
    "from sklearn.model_selection import GridSearchCV\n",
    "\n",
    "from sklearn.neighbors import KNeighborsClassifier\n",
    "from sklearn.tree import DecisionTreeClassifier\n",
    "from sklearn.ensemble import AdaBoostClassifier"
   ]
  },
  {
   "cell_type": "code",
   "execution_count": 2,
   "metadata": {
    "collapsed": false
   },
   "outputs": [],
   "source": [
    "# These are the paths to the data. These differ per user. \n",
    "test = pd.read_csv('/Users/imac/Documents/Tijdelijk/Machine Learning/EindProject/ml-project/data/test.csv', \n",
    "                   delimiter=',')\n",
    "train = pd.read_csv('/Users/imac/Documents/Tijdelijk/Machine Learning/EindProject/ml-project/data/train.csv', \n",
    "                    delimiter=',')"
   ]
  },
  {
   "cell_type": "markdown",
   "metadata": {},
   "source": [
    "The following code is to prepare the data to be optimized. Takes the csv files test and train and transforms it into the x_train, x_test, y_train and y_test we can use for the GridSearchCV. This code is based on the code that is used in the 10 classifiershowdown from kaggle but adapted to our needs, as well as the use of updated packages."
   ]
  },
  {
   "cell_type": "code",
   "execution_count": 3,
   "metadata": {
    "collapsed": true
   },
   "outputs": [],
   "source": [
    "def encode(train, test):\n",
    "    le = LabelEncoder().fit(train.species) \n",
    "    labels = le.transform(train.species)           \n",
    "    classes = list(le.classes_)                    \n",
    "    test_ids = test.id                             \n",
    "    \n",
    "    train = train.drop(['species', 'id'], axis=1)  \n",
    "    test = test.drop(['id'], axis=1)\n",
    "    \n",
    "    return train, labels, test, test_ids, classes\n",
    "\n",
    "train, labels, test, test_ids, classes = encode(train, test)"
   ]
  },
  {
   "cell_type": "code",
   "execution_count": 4,
   "metadata": {
    "collapsed": false
   },
   "outputs": [],
   "source": [
    "sss = StratifiedShuffleSplit(test_size=0.2, random_state=23)\n",
    "sss.get_n_splits(train.values, labels)\n",
    "\n",
    "for train_index, test_index in sss.split(train.values, labels):\n",
    "    X_train, X_test = train.values[train_index], train.values[test_index]\n",
    "    y_train, y_test = labels[train_index], labels[test_index]"
   ]
  },
  {
   "cell_type": "markdown",
   "metadata": {},
   "source": [
    "The following code is the actual gridseach on the parameters for KNeighbors, DecisionTrees and AdaBoost."
   ]
  },
  {
   "cell_type": "code",
   "execution_count": 69,
   "metadata": {
    "collapsed": true
   },
   "outputs": [],
   "source": [
    "# These are the parameters we are going to optimize using gridseach, there are multiple parameters\n",
    "# as finding the most suited ranges for the hyperparameters are trial and error. I keep these variables\n",
    "# to show the process.\n",
    "parameters_KN = [{'n_neighbors':range(1, 10), 'weights':['uniform', 'distance']}]\n",
    "parameters_KN_more = [{'n_neighbors':range(1, 50), 'weights':['uniform', 'distance']}]\n",
    "parameters_DT = [{'criterion':['gini', 'entropy'], 'splitter':['best', 'random'], 'min_samples_leaf':[1, 2]}]\n",
    "parameters_DT_more = [{'criterion':['gini', 'entropy'], 'min_samples_leaf':range(1,10)}]\n",
    "parameters_AB = [{'n_estimators':range(25,75), 'learning_rate':[0.7,0.8,0.9,1.0,1.1,1.2,1.3,1.4,1.5]}]\n",
    "parameters_AB_low = [{'n_estimators':range(25,75), 'learning_rate':[0.1,0.2,0.3,0.4,0.5,0.6,0.7]}] \n",
    "parameters_AB_lower = [{'n_estimators':range(25,75), 'learning_rate':[0.01,0.02,0.03,0.04,0.05,0.06,0.07, 0.08, 0.09]}] "
   ]
  },
  {
   "cell_type": "code",
   "execution_count": 6,
   "metadata": {
    "collapsed": false
   },
   "outputs": [
    {
     "name": "stdout",
     "output_type": "stream",
     "text": [
      "# Tuning hyper-parameters for accuracy\n",
      "Best parameters set found on development set: \n",
      "\n",
      "{'n_neighbors': 1, 'weights': 'uniform'}\n"
     ]
    }
   ],
   "source": [
    "# GRIDSEARCH KNEIGHBORS\n",
    "print(\"# Tuning hyper-parameters for accuracy\")\n",
    "    \n",
    "clf = GridSearchCV(KNeighborsClassifier(n_neighbors=3, weights='uniform', n_jobs=-1), parameters_KN, cv=5,\n",
    "                   scoring='accuracy')\n",
    "clf.fit(X_train, y_train)\n",
    "\n",
    "print(\"Best parameters set found on development set: \\n\")\n",
    "print(clf.best_params_)\n",
    "\n",
    "Grid_scores_KN = []\n",
    "means = clf.cv_results_['mean_test_score']\n",
    "stds = clf.cv_results_['std_test_score']\n",
    "for mean, std, params in zip(means, stds, clf.cv_results_['params']):\n",
    "    Grid_scores_KN.append(\"%0.3f (+/-%0.03f) for %r\" % (mean, std * 2, params))"
   ]
  },
  {
   "cell_type": "code",
   "execution_count": 32,
   "metadata": {
    "collapsed": false
   },
   "outputs": [
    {
     "name": "stdout",
     "output_type": "stream",
     "text": [
      "# Tuning hyper-parameters for accuracy\n",
      "Best parameters set found on development set: \n",
      "\n",
      "{'n_neighbors': 1, 'weights': 'uniform'}\n"
     ]
    }
   ],
   "source": [
    "# GRIDSEACH KNEIGHBORS MORE \n",
    "print(\"# Tuning hyper-parameters for accuracy\")\n",
    "    \n",
    "clf = GridSearchCV(KNeighborsClassifier(n_neighbors=3, weights='uniform', n_jobs=-1), parameters_KN_more, cv=5,\n",
    "                   scoring='accuracy')\n",
    "clf.fit(X_train, y_train)\n",
    "\n",
    "print(\"Best parameters set found on development set: \\n\")\n",
    "print(clf.best_params_)\n",
    "\n",
    "Grid_scores_KN_more = []\n",
    "means = clf.cv_results_['mean_test_score']\n",
    "stds = clf.cv_results_['std_test_score']\n",
    "for mean, std, params in zip(means, stds, clf.cv_results_['params']):\n",
    "    Grid_scores_KN_more.append(\"%0.3f (+/-%0.03f) for %r\" % (mean, std * 2, params))"
   ]
  },
  {
   "cell_type": "code",
   "execution_count": 7,
   "metadata": {
    "collapsed": false,
    "scrolled": false
   },
   "outputs": [
    {
     "name": "stdout",
     "output_type": "stream",
     "text": [
      "# Tuning hyper-parameters for accuracy\n",
      "Best parameters set found on development set: \n",
      "\n",
      "{'splitter': 'best', 'criterion': 'entropy', 'min_samples_leaf': 1}\n"
     ]
    }
   ],
   "source": [
    "# GRIDSEACH DECISION TREE\n",
    "print(\"# Tuning hyper-parameters for accuracy\")\n",
    "\n",
    "clf = GridSearchCV(DecisionTreeClassifier(criterion='gini', splitter='best', min_samples_leaf=1), \n",
    "                      parameters_DT, cv=5, scoring='accuracy')\n",
    "clf.fit(X_train, y_train)\n",
    "\n",
    "print(\"Best parameters set found on development set: \\n\")\n",
    "print(clf.best_params_)\n",
    "\n",
    "Grid_scores_DT = []\n",
    "means = clf.cv_results_['mean_test_score']\n",
    "stds = clf.cv_results_['std_test_score']\n",
    "for mean, std, params in zip(means, stds, clf.cv_results_['params']):\n",
    "    Grid_scores_DT.append(\"%0.3f (+/-%0.03f) for %r\" % (mean, std * 2, params))"
   ]
  },
  {
   "cell_type": "code",
   "execution_count": 70,
   "metadata": {
    "collapsed": false
   },
   "outputs": [
    {
     "name": "stdout",
     "output_type": "stream",
     "text": [
      "# Tuning hyper-parameters for accuracy\n",
      "Best parameters set found on development set: \n",
      "\n",
      "{'criterion': 'gini', 'min_samples_leaf': 1}\n"
     ]
    }
   ],
   "source": [
    "# GRIDSEACH DECISION TREE MORE\n",
    "print(\"# Tuning hyper-parameters for accuracy\")\n",
    "\n",
    "clf = GridSearchCV(DecisionTreeClassifier(criterion='gini', splitter='best', min_samples_leaf=1), \n",
    "                      parameters_DT_more, cv=5, scoring='accuracy')\n",
    "clf.fit(X_train, y_train)\n",
    "\n",
    "print(\"Best parameters set found on development set: \\n\")\n",
    "print(clf.best_params_)\n",
    "\n",
    "Grid_scores_DT_more = []\n",
    "means = clf.cv_results_['mean_test_score']\n",
    "stds = clf.cv_results_['std_test_score']\n",
    "for mean, std, params in zip(means, stds, clf.cv_results_['params']):\n",
    "    Grid_scores_DT_more.append(\"%0.3f (+/-%0.03f) for %r\" % (mean, std * 2, params))"
   ]
  },
  {
   "cell_type": "code",
   "execution_count": 36,
   "metadata": {
    "collapsed": false
   },
   "outputs": [
    {
     "name": "stdout",
     "output_type": "stream",
     "text": [
      "# Tuning hyper-parameters for accuracy\n",
      "Best parameters set found on development set: \n",
      "\n",
      "{'n_estimators': 67, 'learning_rate': 0.7}\n"
     ]
    }
   ],
   "source": [
    "# GRIDSEACH ADABOOST\n",
    "print(\"# Tuning hyper-parameters for accuracy\")\n",
    "\n",
    "clf = GridSearchCV(AdaBoostClassifier(n_estimators=50, learning_rate=1.0), parameters_AB, \n",
    "                   cv=5, scoring='accuracy')\n",
    "clf.fit(X_train, y_train)\n",
    "\n",
    "print(\"Best parameters set found on development set: \\n\")\n",
    "print(clf.best_params_)\n",
    "\n",
    "Grid_scores_AB = []\n",
    "means = clf.cv_results_['mean_test_score']\n",
    "stds = clf.cv_results_['std_test_score']\n",
    "for mean, std, params in zip(means, stds, clf.cv_results_['params']):\n",
    "    Grid_scores_AB.append(\"%0.3f (+/-%0.03f) for %r\" % (mean, std * 2, params))"
   ]
  },
  {
   "cell_type": "code",
   "execution_count": 38,
   "metadata": {
    "collapsed": false
   },
   "outputs": [
    {
     "name": "stdout",
     "output_type": "stream",
     "text": [
      "# Tuning hyper-parameters for accuracy\n",
      "Best parameters set found on development set: \n",
      "\n",
      "{'n_estimators': 70, 'learning_rate': 0.1}\n"
     ]
    }
   ],
   "source": [
    "# GRIDSEACH ADABOOST LOW\n",
    "print(\"# Tuning hyper-parameters for accuracy\")\n",
    "\n",
    "clf = GridSearchCV(AdaBoostClassifier(n_estimators=50, learning_rate=1.0), parameters_AB_low, \n",
    "                   cv=5, scoring='accuracy')\n",
    "clf.fit(X_train, y_train)\n",
    "\n",
    "print(\"Best parameters set found on development set: \\n\")\n",
    "print(clf.best_params_)\n",
    "\n",
    "Grid_scores_AB_low = []\n",
    "means = clf.cv_results_['mean_test_score']\n",
    "stds = clf.cv_results_['std_test_score']\n",
    "for mean, std, params in zip(means, stds, clf.cv_results_['params']):\n",
    "    Grid_scores_AB_low.append(\"%0.3f (+/-%0.03f) for %r\" % (mean, std * 2, params))"
   ]
  },
  {
   "cell_type": "code",
   "execution_count": 8,
   "metadata": {
    "collapsed": false
   },
   "outputs": [
    {
     "name": "stdout",
     "output_type": "stream",
     "text": [
      "# Tuning hyper-parameters for accuracy\n",
      "Best parameters set found on development set: \n",
      "\n",
      "{'n_estimators': 74, 'learning_rate': 0.03}\n"
     ]
    }
   ],
   "source": [
    "# GRIDSEACH ADABOOST LOWER\n",
    "print(\"# Tuning hyper-parameters for accuracy\")\n",
    "\n",
    "clf = GridSearchCV(AdaBoostClassifier(n_estimators=50, learning_rate=1.0), parameters_AB_lower, \n",
    "                   cv=5, scoring='accuracy')\n",
    "clf.fit(X_train, y_train)\n",
    "\n",
    "print(\"Best parameters set found on development set: \\n\")\n",
    "print(clf.best_params_)\n",
    "\n",
    "Grid_scores_AB_lower = []\n",
    "means = clf.cv_results_['mean_test_score']\n",
    "stds = clf.cv_results_['std_test_score']\n",
    "for mean, std, params in zip(means, stds, clf.cv_results_['params']):\n",
    "    Grid_scores_AB_lower.append(\"%0.3f (+/-%0.03f) for %r\" % (mean, std * 2, params))"
   ]
  },
  {
   "cell_type": "markdown",
   "metadata": {
    "collapsed": true
   },
   "source": [
    "The following code is just to visualise the 'learning curves'"
   ]
  },
  {
   "cell_type": "code",
   "execution_count": 11,
   "metadata": {
    "collapsed": true
   },
   "outputs": [],
   "source": [
    "%matplotlib inline"
   ]
  },
  {
   "cell_type": "code",
   "execution_count": 66,
   "metadata": {
    "collapsed": false
   },
   "outputs": [],
   "source": [
    "# KNEIGHBORS MORE preparing for splitting the visualization for uniform and distance as weights.\n",
    "grid_scores_KN_more_u = [x for x in Grid_scores_KN_more if 'uniform' in x]\n",
    "the_x_u = [int(a.split(' ')[1][:-1]) for a in [x.split('{')[1][:-1] for x in grid_scores_KN_more_u]]\n",
    "the_y_u = [float(x.split(' ')[0]) for x in grid_scores_KN_more_u]\n",
    "\n",
    "grid_scores_KN_more_d = [x for x in Grid_scores_KN_more if 'distance' in x]\n",
    "the_x_d = [int(a.split(' ')[1][:-1]) for a in [x.split('{')[1][:-1] for x in grid_scores_KN_more_d]]\n",
    "the_y_d = [float(x.split(' ')[0]) for x in grid_scores_KN_more_d]"
   ]
  },
  {
   "cell_type": "code",
   "execution_count": 68,
   "metadata": {
    "collapsed": false,
    "scrolled": true
   },
   "outputs": [
    {
     "data": {
      "image/png": "[encoded data removed]",
      "text/plain": [
       "<matplotlib.figure.Figure at 0x12018ea50>"
      ]
     },
     "metadata": {},
     "output_type": "display_data"
    },
    {
     "data": {
      "image/png": "[encoded data removed]",
      "text/plain": [
       "<matplotlib.figure.Figure at 0x120503a90>"
      ]
     },
     "metadata": {},
     "output_type": "display_data"
    }
   ],
   "source": [
    "# KNEIGHBORS MORE splitting the visualization for uniform and distance as weights.\n",
    "\n",
    "# Uniform\n",
    "ax = plt.subplot(111)\n",
    "ax.bar(the_x_u, the_y_u, width=0.3, color='midnightblue', align='center')\n",
    "\n",
    "#Layout\n",
    "ax.set_axis_bgcolor('white')\n",
    "\n",
    "ax.set_xlabel('n_neighbors')\n",
    "ax.set_ylabel('Accuracy')\n",
    "ax.set_title('The Accuracy for KNeighbors \\nWith Uniform Weights\\n')\n",
    "\n",
    "plt.show()\n",
    "\n",
    "# Distance\n",
    "ax = plt.subplot(111)\n",
    "ax.bar(the_x_d, the_y_d, width=0.3, color='midnightblue', align='center')\n",
    "\n",
    "#Layout\n",
    "ax.set_axis_bgcolor('white')\n",
    "\n",
    "ax.set_xlabel('n_neighbors')\n",
    "ax.set_ylabel('Accuracy')\n",
    "ax.set_title('The Accuracy for KNeighbors \\nWith Distance as Weights\\n')\n",
    "\n",
    "plt.show()"
   ]
  },
  {
   "cell_type": "code",
   "execution_count": 82,
   "metadata": {
    "collapsed": false
   },
   "outputs": [],
   "source": [
    "# DECISION TREE MORE preparing for splitting the visualization for gini or entropy.\n",
    "grid_scores_DT_more_g = [x for x in Grid_scores_DT_more if 'gini' in x]\n",
    "the_x_g = [a.split(' ')[-1] for a in [x.split('{')[1][:-1] for x in grid_scores_DT_more_g]]\n",
    "the_y_g = [float(x.split(' ')[0]) for x in grid_scores_DT_more_g]\n",
    "\n",
    "grid_scores_DT_more_e = [x for x in Grid_scores_DT_more if 'entropy' in x]\n",
    "the_x_e = [a.split(' ')[-1] for a in [x.split('{')[1][:-1] for x in grid_scores_DT_more_e]]\n",
    "the_y_e = [float(x.split(' ')[0]) for x in grid_scores_DT_more_e]"
   ]
  },
  {
   "cell_type": "code",
   "execution_count": 89,
   "metadata": {
    "collapsed": false
   },
   "outputs": [
    {
     "data": {
      "image/png": "[encoded data removed]",
      "text/plain": [
       "<matplotlib.figure.Figure at 0x11dfee410>"
      ]
     },
     "metadata": {},
     "output_type": "display_data"
    },
    {
     "data": {
      "image/png": "[encoded data removed]",
      "text/plain": [
       "<matplotlib.figure.Figure at 0x11dfee150>"
      ]
     },
     "metadata": {},
     "output_type": "display_data"
    }
   ],
   "source": [
    "# DECISION TREE MORE splitting the visualization for gini or entropy.\n",
    "\n",
    "# Gini\n",
    "numbers = range(len(the_x_g))\n",
    "ax = plt.subplot(111)\n",
    "ax.bar(numbers, the_y_g, width=0.3, color='midnightblue', align='center')\n",
    "plt.xticks(numbers, the_x_g)\n",
    "\n",
    "#Layout\n",
    "ax.set_axis_bgcolor('white')\n",
    "\n",
    "ax.set_xlabel('min_samples_leaf')\n",
    "ax.set_ylabel('Accuracy')\n",
    "ax.set_title('The Accuracy for DecisonTree \\nWith Gini\\n')\n",
    "\n",
    "plt.show()\n",
    "\n",
    "# Entropy\n",
    "ax = plt.subplot(111)\n",
    "ax.bar(numbers, the_y_e, width=0.3, color='midnightblue', align='center')\n",
    "plt.xticks(numbers, the_x_e)\n",
    "\n",
    "#Layout\n",
    "ax.set_axis_bgcolor('white')\n",
    "\n",
    "ax.set_xlabel('min_samples_leaf')\n",
    "ax.set_ylabel('Accuracy')\n",
    "ax.set_title('The Accuracy for DecisonTree \\nWith Entropy\\n')\n",
    "\n",
    "plt.show()"
   ]
  },
  {
   "cell_type": "code",
   "execution_count": 88,
   "metadata": {
    "collapsed": false,
    "scrolled": true
   },
   "outputs": [
    {
     "data": {
      "image/png": "[encoded data removed]",
      "text/plain": [
       "<matplotlib.figure.Figure at 0x11fd0ded0>"
      ]
     },
     "metadata": {},
     "output_type": "display_data"
    }
   ],
   "source": [
    "# Original Plot Decision Tree, so splitter included\n",
    "\n",
    "the_y = [x.split(' ')[0] for x in Grid_scores_DT]\n",
    "the_x = [x.split('{')[1][:-1] for x in Grid_scores_DT]\n",
    "\n",
    "Number = range(2*len(the_y))[1::2]\n",
    "\n",
    "fig, ax = plt.subplots()\n",
    "\n",
    "ax = plt.subplot(111)\n",
    "ax.bar(Number, the_y, width=0.3, color='midnightblue', align='center')\n",
    "plt.xticks(Number, the_x)\n",
    "\n",
    "#Layout\n",
    "ax.set_axis_bgcolor('white')\n",
    "\n",
    "ax.set_xlabel('Classifier')\n",
    "ax.set_ylabel('Accuracy')\n",
    "ax.set_title('The Accuracy for DecisionTree \\nWith Different HyperParameters\\n')\n",
    "\n",
    "fig.autofmt_xdate()\n",
    "\n",
    "plt.show()"
   ]
  },
  {
   "cell_type": "code",
   "execution_count": 87,
   "metadata": {
    "collapsed": false
   },
   "outputs": [
    {
     "data": {
      "image/png": "[encoded data removed]",
      "text/plain": [
       "<matplotlib.figure.Figure at 0x115449790>"
      ]
     },
     "metadata": {},
     "output_type": "display_data"
    }
   ],
   "source": [
    "# Plotting the learning curve for adaboost with the lowest values. \n",
    "\n",
    "the_y = [x.split(' ')[0] for x in Grid_scores_AB_lower]\n",
    "the_x = [x.split('{')[1][:-1] for x in Grid_scores_AB_lower]\n",
    "\n",
    "Number = range(2*len(the_y))[1::2]\n",
    "\n",
    "fig, ax = plt.subplots()\n",
    "\n",
    "ax = plt.subplot(111)\n",
    "ax.bar(Number, the_y, width=0.3, color='midnightblue', align='center')\n",
    "\n",
    "#Layout\n",
    "ax.set_axis_bgcolor('white')\n",
    "\n",
    "ax.set_xlabel('Each Number Corresponds to a different Combination of Hyperparameters')\n",
    "ax.set_ylabel('Accuracy')\n",
    "ax.set_title('The Accuracy for AdaBoost \\nWith Different HyperParameters\\n')\n",
    "\n",
    "fig.autofmt_xdate()\n",
    "\n",
    "plt.show()"
   ]
  },
  {
   "cell_type": "code",
   "execution_count": null,
   "metadata": {
    "collapsed": true
   },
   "outputs": [],
   "source": []
  }
 ],
 "metadata": {
  "anaconda-cloud": {},
  "kernelspec": {
   "display_name": "Python [Root]",
   "language": "python",
   "name": "Python [Root]"
  },
  "language_info": {
   "codemirror_mode": {
    "name": "ipython",
    "version": 2
   },
   "file_extension": ".py",
   "mimetype": "text/x-python",
   "name": "python",
   "nbconvert_exporter": "python",
   "pygments_lexer": "ipython2",
   "version": "2.7.12"
  }
 },
 "nbformat": 4,
 "nbformat_minor": 0
}
